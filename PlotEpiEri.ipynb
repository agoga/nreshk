{
 "metadata": {
  "language_info": {
   "codemirror_mode": {
    "name": "ipython",
    "version": 3
   },
   "file_extension": ".py",
   "mimetype": "text/x-python",
   "name": "python",
   "nbconvert_exporter": "python",
   "pygments_lexer": "ipython3",
   "version": "3.8.3-final"
  },
  "orig_nbformat": 2,
  "kernelspec": {
   "name": "python_defaultSpec_1597862427322",
   "display_name": "Python 3.8.3 64-bit ('base': conda)"
  }
 },
 "nbformat": 4,
 "nbformat_minor": 2,
 "cells": [
  {
   "cell_type": "code",
   "execution_count": 37,
   "metadata": {},
   "outputs": [],
   "source": [
    "from datetime import datetime as dt\n",
    "import time\n",
    "\n",
    "def toYearFraction(date):\n",
    "    def sinceEpoch(date): # returns seconds since epoch\n",
    "        return time.mktime(date.timetuple())\n",
    "    s = sinceEpoch\n",
    "\n",
    "    year = date.year\n",
    "    startOfThisYear = dt(year=year, month=1, day=1)\n",
    "    startOfNextYear = dt(year=year+1, month=1, day=1)\n",
    "\n",
    "    yearElapsed = s(date) - s(startOfThisYear)\n",
    "    yearDuration = s(startOfNextYear) - s(startOfThisYear)\n",
    "    fraction = yearElapsed/yearDuration\n",
    "\n",
    "    return date.year + fraction"
   ]
  },
  {
   "cell_type": "code",
   "execution_count": 38,
   "metadata": {},
   "outputs": [],
   "source": [
    "times = np.char.mod('%f',[58045.1447501, 58050.1313732, 58056.1150483, 58083.0970938, 58090.0612244, 58140.1117272, 58372.9677498, 58394.9102553, 58471.9574956, 58497.8506448, 58538.799557, 58655.1851092, 58678.3882907, 58705.3012905, 58731.9831826, 58761.9901174, 58791.8220303, 58821.7673276, 58850.8487718, 58884.8205858, 58045.1447501, 58050.1313732, 58056.1150483, 58083.0970938, 58090.0612244, 58140.1117272, 58372.9677498, 58394.9102553, 58471.9574956, 58497.8506448, 58538.799557, 58655.1851092, 58678.3882907, 58705.3012905, 58731.9831826, 58761.9901174, 58791.8220303, 58821.7673276, 58850.8487718, 58884.8205858])\n",
    "\n",
    "s = [0.29734735931310485, 0.3022924316155411, 0.3048220629434172, 0.409843467218831, 0.3573800199522888, 0.38224200709026496, 0.48774058849123514, 0.49959865698985234, 0.4880618982435886, 0.5088103733486505, 0.4586034238155103, 0.3992154336768882, 0.4022206301082906, 0.3975607234919276, 0.38213276088947506, 0.45097556300128194, 0.4396716887424434, 0.44006030422873776, 0.46559018687995257, 0.4704407338292491, 0.2974059058421136, 0.3022157929818074, 0.3047924542295627, 0.40985797114420924, 0.357396169283142, 0.38221012309468083, 0.48773485707313907, 0.4996155176065813, 0.48806913022909054, 0.508788238324542, 0.45861132723464115, 0.399185031537216, 0.402307943338248, 0.39755898099439013, 0.3821481992434974, 0.45098043218718314, 0.439683271599247, 0.44007537250569323, 0.4655467185895203, 0.4704696812301381]"
   ]
  },
  {
   "cell_type": "code",
   "execution_count": null,
   "metadata": {},
   "outputs": [],
   "source": [
    "class data:\n",
    "    mjd:float\n",
    "    header:str\n",
    "    lamGrid:list\n",
    "    targOlapf:list\n",
    "    shk:float\n",
    "    def __init__(self, mjd=None,header=None,lamGrid=None,targOlapf=None,shk=None):\n",
    "        self.mjd = 0 if mjd is None else mjd\n",
    "        self.header = 0 if header is None else header\n",
    "        self.lamGrid = 0 if lamGrid is None else lamGrid\n",
    "        self.targOlapf = 0 if targOlapf is None else targOlapf\n",
    "        self.shk = 0 if shk is None else shk"
   ]
  }
 ]
}