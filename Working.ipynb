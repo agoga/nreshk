{
 "cells": [
  {
   "cell_type": "code",
   "execution_count": 5,
   "metadata": {
    "tags": []
   },
   "outputs": [
    {
     "output_type": "stream",
     "name": "stdout",
     "text": "done\n"
    }
   ],
   "source": [
    "#this is where single run functions such as creating the flat pickle file(flat database) and loading aligning spectra\n",
    "\n",
    "from pipeline import import_aligning_spectra\n",
    "from NRES_SHK_Pipeline import create_flat_dict_file\n",
    "\n",
    "#Soon to be settings.xml\n",
    "#Project folder directory on your computer\n",
    "homePath = 'D:/My Documents/Coding Projects/nreshk/'\n",
    "\n",
    "#required paths for pipeline, try not to change ever\n",
    "dataPath = homePath + 'data/'\n",
    "outputPath = homePath + 'output/'\n",
    "flatPath = dataPath + 'flats/'\n",
    "flatPickle = \"flatDict.pkl\"\n",
    "\n",
    "create_flat_dict_file(flatPath,flatPickle)\n",
    "\n",
    "#need this in memory for the following wrapper\n",
    "#TODO maybe a better way to do this without lugging the lab spectra around every install\n",
    "lab = import_aligning_spectra(dataPath+ 'LabSpectra/', resolution=0)#,res*10)\n",
    "print('done')"
   ]
  },
  {
   "cell_type": "code",
   "execution_count": 15,
   "metadata": {
    "scrolled": true,
    "tags": []
   },
   "outputs": [
    {
     "output_type": "stream",
     "name": "stdout",
     "text": "The autoreload extension is already loaded. To reload it, use:\n  %reload_ext autoreload\n100180 already has output\n114710 already has output\n115383 already has output\n115404 already has output\n120136 already has output\n12235 already has output\n126053 already has output\n136202 already has output\n149661 already has output\n152391 already has output\n154417 already has output\n165341A already has output\n17051 already has output\n176051 already has output\n182101 already has output\n1835 already has output\n187691 already has output\n190406 already has output\n194012 already has output\n20630 already has output\n206860 already has output\n++++++++++++++++++++++++++++++++++++++++++++++++++++++++++++++++++++++++++++++\nRunning pipeline on HD 22049\n++++++++++++++++++++++++++++++++++++++++++++++++++++++++++++++++++++++++++++++\nNumber of observations: 58\n"
    },
    {
     "output_type": "error",
     "ename": "TypeError",
     "evalue": "argument of type 'NoneType' is not iterable",
     "traceback": [
      "\u001b[1;31m---------------------------------------------------------------------------\u001b[0m",
      "\u001b[1;31mTypeError\u001b[0m                                 Traceback (most recent call last)",
      "\u001b[1;32m<ipython-input-15-386a05a3cf28>\u001b[0m in \u001b[0;36m<module>\u001b[1;34m\u001b[0m\n\u001b[0;32m     57\u001b[0m \u001b[1;31m#t.test_daily_data_sum()\u001b[0m\u001b[1;33m\u001b[0m\u001b[1;33m\u001b[0m\u001b[1;33m\u001b[0m\u001b[0m\n\u001b[0;32m     58\u001b[0m \u001b[1;33m\u001b[0m\u001b[0m\n\u001b[1;32m---> 59\u001b[1;33m \u001b[0manalyzedData\u001b[0m \u001b[1;33m=\u001b[0m \u001b[0mnresshk\u001b[0m\u001b[1;33m.\u001b[0m\u001b[0mNRES_SHK_Pipeline\u001b[0m\u001b[1;33m(\u001b[0m\u001b[0mdataPath\u001b[0m\u001b[1;33m,\u001b[0m\u001b[0moutputPath\u001b[0m\u001b[1;33m,\u001b[0m\u001b[0mflatDict\u001b[0m\u001b[1;33m,\u001b[0m\u001b[0mlab\u001b[0m\u001b[1;33m,\u001b[0m\u001b[0mskip\u001b[0m\u001b[1;33m,\u001b[0m\u001b[0mforceRun\u001b[0m\u001b[1;33m,\u001b[0m\u001b[0mmanAdj\u001b[0m\u001b[1;33m,\u001b[0m\u001b[0monly\u001b[0m\u001b[1;33m)\u001b[0m\u001b[1;33m\u001b[0m\u001b[1;33m\u001b[0m\u001b[0m\n\u001b[0m\u001b[0;32m     60\u001b[0m \u001b[1;33m\u001b[0m\u001b[0m\n\u001b[0;32m     61\u001b[0m \u001b[1;33m\u001b[0m\u001b[0m\n",
      "\u001b[1;32md:\\My Documents\\Coding Projects\\nreshk\\NRES_SHK_Pipeline.py\u001b[0m in \u001b[0;36mNRES_SHK_Pipeline\u001b[1;34m(dataPath, outputPath, flatDict, lab, skip, forceRun, manualAdj, only)\u001b[0m\n\u001b[0;32m    355\u001b[0m                     \u001b[1;32mcontinue\u001b[0m\u001b[1;33m\u001b[0m\u001b[1;33m\u001b[0m\u001b[0m\n\u001b[0;32m    356\u001b[0m \u001b[1;33m\u001b[0m\u001b[0m\n\u001b[1;32m--> 357\u001b[1;33m             \u001b[1;32mif\u001b[0m \u001b[0mobsRaw\u001b[0m\u001b[1;33m.\u001b[0m\u001b[0mmjd\u001b[0m \u001b[1;32min\u001b[0m \u001b[0mskip\u001b[0m\u001b[1;33m:\u001b[0m\u001b[1;33m\u001b[0m\u001b[1;33m\u001b[0m\u001b[0m\n\u001b[0m\u001b[0;32m    358\u001b[0m                 \u001b[1;32mcontinue\u001b[0m\u001b[1;33m\u001b[0m\u001b[1;33m\u001b[0m\u001b[0m\n\u001b[0;32m    359\u001b[0m \u001b[1;33m\u001b[0m\u001b[0m\n",
      "\u001b[1;31mTypeError\u001b[0m: argument of type 'NoneType' is not iterable"
     ]
    }
   ],
   "source": [
    "%load_ext autoreload\n",
    "%autoreload\n",
    "\n",
    "\n",
    "#from matplotlib.backends.backend_pdf import PdfPages\n",
    "import NRES_SHK_Pipeline as nresshk\n",
    "import pipeline_testing as t\n",
    "import helpers as h\n",
    "\n",
    "\n",
    "flatDict = nresshk.NRES_SHK_MkFlat(flatPath,flatPickle)\n",
    "\n",
    "\n",
    "#MJD dates known to be bad TODO better feature use, maybe not w/ mjd\n",
    "skip = []#should be empty list if not skipping any\n",
    "#skip = [58088.0763592, 58088.0801385, 58162.0245788, 58162.028358, 58272.4211262, 58272.4248934, 58354.2323109, 58354.2381758, 58553.7479017, 58553.7527935, 58821.1965842, 58821.2014756]\n",
    "\n",
    "\n",
    "\n",
    "#a list of stars we MUST run, regardless of if there is already output\n",
    "#forceRun = [] #should be empty list if not forcing runs\n",
    "forceRun = [\"22049\"]#[\"152391\"]#,[\"100180\"]\n",
    "    \n",
    "\n",
    "\n",
    "#manualAdj is for observations which are not being offset properly. combine with 'only' functionality to tweek the adjustment\n",
    "#this is not really desirable but we'd rather have correct offsets than not and if automatic not working oh well\n",
    "\n",
    "#window order taken from helpers.analyzedData offsets 9/10/20 Ca H, Ca K, R band, B band\n",
    "#manAdj = [[58045.1409353],\n",
    "        #[[-.04,-.04,-.0555,-.044]\n",
    "\n",
    "        #]]\n",
    "manAdj = None\n",
    "\n",
    "\n",
    "#debug mode only has on or off at the moment and will cause lots of printing. Not really implemented and should not be trusted\n",
    "h.debug = False\n",
    "\n",
    "\n",
    "#output mode\n",
    "#0 - all output \n",
    "#1 - only final time series pdf's created\n",
    "#2 - only star N/A\n",
    "#etc\n",
    "h.pdfMode = 0\n",
    "\n",
    "\n",
    "#for testing ONLY specific obs should be None if not testing specific mjd\n",
    "#only=None\n",
    "only=None#[58850.8438687,58821.7673276,58791.8171273,58791.8220303]\n",
    "\n",
    "\n",
    "#TODO impement|\n",
    "#if using radial velocity to align must have dict of star HD's and their rv\"\n",
    "alignmentDict = []#currently N/A\"\n",
    "\n",
    "#t.test_daily_data_sum()\n",
    "\n",
    "analyzedData = nresshk.NRES_SHK_Pipeline(dataPath,outputPath,flatDict,lab,skip,forceRun,manAdj,only)\n",
    "\n",
    "\n"
   ]
  },
  {
   "cell_type": "code",
   "execution_count": null,
   "metadata": {},
   "outputs": [],
   "source": []
  }
 ],
 "metadata": {
  "kernelspec": {
   "display_name": "Python 3",
   "language": "python",
   "name": "python3"
  },
  "language_info": {
   "codemirror_mode": {
    "name": "ipython",
    "version": 3
   },
   "file_extension": ".py",
   "mimetype": "text/x-python",
   "name": "python",
   "nbconvert_exporter": "python",
   "pygments_lexer": "ipython3",
   "version": "3.8.3-final"
  }
 },
 "nbformat": 4,
 "nbformat_minor": 2
}