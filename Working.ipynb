{
 "cells": [
  {
   "cell_type": "code",
   "execution_count": 1,
   "metadata": {
    "tags": []
   },
   "outputs": [
    {
     "output_type": "stream",
     "name": "stdout",
     "text": "done\n"
    }
   ],
   "source": [
    "#this is where single run functions such as creating the flat pickle file(flat database) and loading aligning spectra\n",
    "\n",
    "from pipeline import import_aligning_spectra\n",
    "from NRES_SHK_Pipeline import create_flat_dict_file\n",
    "\n",
    "#Soon to be settings.xml\n",
    "#Project folder directory on your computer\n",
    "homePath = 'D:/My Documents/Coding Projects/nreshk/'\n",
    "\n",
    "#required paths for pipeline, try not to change ever\n",
    "dataPath = homePath + 'data/'\n",
    "outputPath = homePath + 'output/'\n",
    "flatPath = dataPath + 'flats/'\n",
    "flatPickle = \"flatDict.pkl\"\n",
    "\n",
    "create_flat_dict_file(flatPath,flatPickle)\n",
    "\n",
    "#need this in memory for the following wrapper\n",
    "#TODO maybe a better way to do this without lugging the lab spectra around every install\n",
    "lab = import_aligning_spectra(dataPath+ 'LabSpectra/', resolution=0)#,res*10)\n",
    "print('done')"
   ]
  },
  {
   "cell_type": "code",
   "execution_count": 14,
   "metadata": {
    "scrolled": true,
    "tags": []
   },
   "outputs": [
    {
     "output_type": "stream",
     "name": "stdout",
     "text": "The autoreload extension is already loaded. To reload it, use:\n  %reload_ext autoreload\n100180 already has output\n114710 already has output\n115383 already has output\n115404 already has output\n120136 already has output\n12235 already has output\n126053 already has output\n136202 already has output\n149661 already has output\n152391 already has output\n154417 already has output\n165341A already has output\n17051 already has output\n176051 already has output\n182101 already has output\n1835 already has output\n187691 already has output\n190406 already has output\n194012 already has output\n20630 already has output\n206860 already has output\n++++++++++++++++++++++++++++++++++++++++++++++++++++++++++++++++++++++++++++++\nRunning pipeline on HD 22049\n++++++++++++++++++++++++++++++++++++++++++++++++++++++++++++++++++++++++++++++\nNumber of observations: 55\n"
    },
    {
     "output_type": "error",
     "ename": "NameError",
     "evalue": "name 'star' is not defined",
     "traceback": [
      "\u001b[1;31m---------------------------------------------------------------------------\u001b[0m",
      "\u001b[1;31mNameError\u001b[0m                                 Traceback (most recent call last)",
      "\u001b[1;32m<ipython-input-14-8b29c1e79a4d>\u001b[0m in \u001b[0;36m<module>\u001b[1;34m\u001b[0m\n\u001b[0;32m     39\u001b[0m \u001b[1;31m#t.test_daily_data_sum()\u001b[0m\u001b[1;33m\u001b[0m\u001b[1;33m\u001b[0m\u001b[1;33m\u001b[0m\u001b[0m\n\u001b[0;32m     40\u001b[0m \u001b[1;33m\u001b[0m\u001b[0m\n\u001b[1;32m---> 41\u001b[1;33m \u001b[0manalyzedData\u001b[0m \u001b[1;33m=\u001b[0m \u001b[0mnresshk\u001b[0m\u001b[1;33m.\u001b[0m\u001b[0mNRES_SHK_Pipeline\u001b[0m\u001b[1;33m(\u001b[0m\u001b[0mdataPath\u001b[0m\u001b[1;33m,\u001b[0m\u001b[0moutputPath\u001b[0m\u001b[1;33m,\u001b[0m\u001b[0mflatDict\u001b[0m\u001b[1;33m,\u001b[0m\u001b[0mlab\u001b[0m\u001b[1;33m,\u001b[0m\u001b[0mskip\u001b[0m\u001b[1;33m,\u001b[0m\u001b[0mforceRun\u001b[0m\u001b[1;33m,\u001b[0m\u001b[0monly\u001b[0m\u001b[1;33m)\u001b[0m\u001b[1;33m\u001b[0m\u001b[1;33m\u001b[0m\u001b[0m\n\u001b[0m\u001b[0;32m     42\u001b[0m \u001b[1;33m\u001b[0m\u001b[0m\n\u001b[0;32m     43\u001b[0m \u001b[1;33m\u001b[0m\u001b[0m\n",
      "\u001b[1;32md:\\My Documents\\Coding Projects\\nreshk\\NRES_SHK_Pipeline.py\u001b[0m in \u001b[0;36mNRES_SHK_Pipeline\u001b[1;34m(dataPath, outputPath, flatDict, lab, skip, forceRun, only)\u001b[0m\n\u001b[0;32m    328\u001b[0m         \u001b[1;32mfor\u001b[0m \u001b[0mobsFileName\u001b[0m \u001b[1;32min\u001b[0m \u001b[0mobsFiles\u001b[0m\u001b[1;33m:\u001b[0m\u001b[1;33m\u001b[0m\u001b[1;33m\u001b[0m\u001b[0m\n\u001b[0;32m    329\u001b[0m \u001b[1;33m\u001b[0m\u001b[0m\n\u001b[1;32m--> 330\u001b[1;33m             \u001b[0mobsRaw\u001b[0m \u001b[1;33m=\u001b[0m \u001b[0mload_obs_for_pipeline\u001b[0m\u001b[1;33m(\u001b[0m\u001b[0mobsFileName\u001b[0m\u001b[1;33m)\u001b[0m\u001b[1;33m\u001b[0m\u001b[1;33m\u001b[0m\u001b[0m\n\u001b[0m\u001b[0;32m    331\u001b[0m             \u001b[1;32mif\u001b[0m \u001b[0mobsRaw\u001b[0m \u001b[1;32mis\u001b[0m \u001b[1;32mNone\u001b[0m\u001b[1;33m:\u001b[0m\u001b[1;33m\u001b[0m\u001b[1;33m\u001b[0m\u001b[0m\n\u001b[0;32m    332\u001b[0m                 \u001b[1;32mcontinue\u001b[0m\u001b[1;33m\u001b[0m\u001b[1;33m\u001b[0m\u001b[0m\n",
      "\u001b[1;32md:\\My Documents\\Coding Projects\\nreshk\\NRES_SHK_Pipeline.py\u001b[0m in \u001b[0;36mload_obs_for_pipeline\u001b[1;34m(obsFileName)\u001b[0m\n\u001b[0;32m    150\u001b[0m         \u001b[0mspec\u001b[0m \u001b[1;33m=\u001b[0m \u001b[0moHDu\u001b[0m\u001b[1;33m[\u001b[0m\u001b[1;36m1\u001b[0m\u001b[1;33m]\u001b[0m\u001b[1;33m.\u001b[0m\u001b[0mdata\u001b[0m\u001b[1;33m\u001b[0m\u001b[1;33m\u001b[0m\u001b[0m\n\u001b[0;32m    151\u001b[0m         \u001b[0mheader\u001b[0m \u001b[1;33m=\u001b[0m \u001b[0moHDu\u001b[0m\u001b[1;33m[\u001b[0m\u001b[1;36m0\u001b[0m\u001b[1;33m]\u001b[0m\u001b[1;33m.\u001b[0m\u001b[0mheader\u001b[0m\u001b[1;33m\u001b[0m\u001b[1;33m\u001b[0m\u001b[0m\n\u001b[1;32m--> 152\u001b[1;33m         \u001b[0mdata\u001b[0m \u001b[1;33m=\u001b[0m \u001b[0mh\u001b[0m\u001b[1;33m.\u001b[0m\u001b[0mrawData\u001b[0m\u001b[1;33m(\u001b[0m\u001b[0mstar\u001b[0m\u001b[1;33m,\u001b[0m\u001b[0mwaveGrid\u001b[0m\u001b[1;33m,\u001b[0m\u001b[0mspec\u001b[0m\u001b[1;33m,\u001b[0m\u001b[0mheader\u001b[0m\u001b[1;33m,\u001b[0m\u001b[0mobsFileName\u001b[0m\u001b[1;33m,\u001b[0m\u001b[0moldFormat\u001b[0m\u001b[1;33m)\u001b[0m\u001b[1;33m\u001b[0m\u001b[1;33m\u001b[0m\u001b[0m\n\u001b[0m\u001b[0;32m    153\u001b[0m         \u001b[0moHDu\u001b[0m\u001b[1;33m.\u001b[0m\u001b[0mclose\u001b[0m\u001b[1;33m(\u001b[0m\u001b[1;33m)\u001b[0m\u001b[1;33m\u001b[0m\u001b[1;33m\u001b[0m\u001b[0m\n\u001b[0;32m    154\u001b[0m    \u001b[1;31m#end big if\u001b[0m\u001b[1;33m\u001b[0m\u001b[1;33m\u001b[0m\u001b[1;33m\u001b[0m\u001b[0m\n",
      "\u001b[1;31mNameError\u001b[0m: name 'star' is not defined"
     ]
    }
   ],
   "source": [
    "%load_ext autoreload\n",
    "%autoreload\n",
    "\n",
    "\n",
    "#from matplotlib.backends.backend_pdf import PdfPages\n",
    "import NRES_SHK_Pipeline as nresshk\n",
    "import pipeline_testing as t\n",
    "import helpers as h\n",
    "\n",
    "\n",
    "flatDict = nresshk.NRES_SHK_MkFlat(flatPath,flatPickle)\n",
    "\n",
    "\n",
    "#MJD dates known to be bad TODO better feature use, maybe not w/ mjd\n",
    "skip = []\n",
    "\n",
    "#a list of stars we MUST run, regardless of if there is already output\n",
    "forceRun = [\"22049\"]#[\"76151\",\"22049\"][\"100180\"]\n",
    "    \n",
    "#debug mode\n",
    "#verbose debug\n",
    "#file output|\n",
    "#etc\n",
    "debugMode = 0#currently N/A\n",
    "\n",
    "#output mode\n",
    "#0 - all output \n",
    "#1 - only time series\n",
    "#2 - only star N/A\n",
    "#etc\n",
    "h.pdfMode = 0\n",
    "only=None\n",
    "#only = [59030.1570547,59030.1619441]#for testing ONLY specific obs\n",
    "\n",
    "#TODO impement|\n",
    "#if using radial velocity to align must have dict of star HD's and their rv\"\n",
    "alignmentDict = []#currently N/A\"\n",
    "\n",
    "#t.test_daily_data_sum()\n",
    "\n",
    "analyzedData = nresshk.NRES_SHK_Pipeline(dataPath,outputPath,flatDict,lab,skip,forceRun,only)\n",
    "\n",
    "\n"
   ]
  },
  {
   "cell_type": "code",
   "execution_count": null,
   "metadata": {},
   "outputs": [],
   "source": []
  }
 ],
 "metadata": {
  "kernelspec": {
   "display_name": "Python 3",
   "language": "python",
   "name": "python3"
  },
  "language_info": {
   "codemirror_mode": {
    "name": "ipython",
    "version": 3
   },
   "file_extension": ".py",
   "mimetype": "text/x-python",
   "name": "python",
   "nbconvert_exporter": "python",
   "pygments_lexer": "ipython3",
   "version": "3.8.3-final"
  }
 },
 "nbformat": 4,
 "nbformat_minor": 2
}