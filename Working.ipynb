{
 "cells": [
  {
   "cell_type": "code",
   "execution_count": 1,
   "metadata": {
    "tags": []
   },
   "outputs": [
    {
     "output_type": "stream",
     "name": "stdout",
     "text": "done\n"
    }
   ],
   "source": [
    "#this is where single run functions such as creating the flat pickle file(flat database) and loading aligning spectra\n",
    "from pipeline import import_aligning_spectra\n",
    "from NRES_SHK_Pipeline import create_flat_dict_file\n",
    "\n",
    "#Project folder directory on your computer\n",
    "homePath = 'D:/My Documents/Coding Projects/nreshk/'\n",
    "\n",
    "#required paths for pipeline, try not to change ever\n",
    "dataPath = homePath + 'data/'\n",
    "outputPath = homePath + 'output/'\n",
    "flatPath = dataPath + 'flats/'\n",
    "flatPickle = \"flatDict.pkl\"\n",
    "\n",
    "create_flat_dict_file(flatPath,flatPickle)\n",
    "\n",
    "#need this in memory for the following wrapper\n",
    "#TODO maybe a better way to do this without lugging the lab spectra around every install\n",
    "lab = import_aligning_spectra(dataPath+ 'LabSpectra/', resolution=0)#,res*10)\n",
    "print('done')"
   ]
  },
  {
   "cell_type": "code",
   "execution_count": 5,
   "metadata": {
    "scrolled": true,
    "tags": []
   },
   "outputs": [
    {
     "output_type": "stream",
     "name": "stdout",
     "text": "The autoreload extension is already loaded. To reload it, use:\n  %reload_ext autoreload\n100180 already has output\n114710 already has output\n115383 already has output\n115404 already has output\n120136 already has output\n12235 already has output\n126053 already has output\n136202 already has output\n149661 already has output\n152391 already has output\n154417 already has output\n165341A already has output\n17051 already has output\n176051 already has output\n182101 already has output\n1835 already has output\n187691 already has output\n190406 already has output\n194012 already has output\n20630 already has output\n206860 already has output\n++++++++++++++++++++++++++++++++++++++++++++++++++++++++++++++++++++++++++++++\nRunning pipeline on HD 22049\n++++++++++++++++++++++++++++++++++++++++++++++++++++++++++++++++++++++++++++++\nlen files47\n-------------------------------------------------------------------------------\nbad correlation: 1.082127334937545\nMJD: 58761.9901174 and decYr 2019.76161676 w/ shk: 0.45097556300128194 and offset:0.10493819116605628\nmake dir: output/22049/58761/\n-------------------------------------------------------------------------------\nbad correlation: 1.1502070324369529\nMJD: 58045.1409353 and decYr 2017.7976463980822 w/ shk: 0.3370017078620843 and offset:-0.014493379139317013\nmake dir: output/22049/58045/\n-------------------------------------------------------------------------------\nbad correlation: 1.1404271189158683\nMJD: 58045.1447501 and decYr 2017.797656849589 w/ shk: 0.29734735931310485 and offset:-0.013366793837735225\nmake dir: output/22049/58045/\n-------------------------------------------------------------------------------\nbad correlation: 1.1903523263727323\nMJD: 58050.1276056 and decYr 2017.811308508493 w/ shk: 0.34222216183860826 and offset:-0.01201377421495603\nmake dir: output/22049/58050/\n-------------------------------------------------------------------------------\nbad correlation: 1.1912595813558295\nMJD: 58050.1313732 and decYr 2017.811318830685 w/ shk: 0.3022924316155411 and offset:-0.011483192634360819\nmake dir: output/22049/58050/\n-------------------------------------------------------------------------------\nbad correlation: 1.1034526561052542\nMJD: 58056.1112533 and decYr 2017.8277020638357 w/ shk: 0.318472495453486 and offset:-0.007301020027162097\nmake dir: output/22049/58056/\n-------------------------------------------------------------------------------\nbad correlation: 1.107363091620715\nMJD: 58056.1150483 and decYr 2017.8277124610959 w/ shk: 0.3048220629434172 and offset:-0.006774306589904761\nmake dir: output/22049/58056/\n-------------------------------------------------------------------------------\nbad correlation: 1.0931604710987934\nMJD: 58083.0933119 and decYr 2017.9016255120548 w/ shk: 0.4075270133475682 and offset:0.1792431829463746\nmake dir: output/22049/58083/\n-------------------------------------------------------------------------------\nbad correlation: 1.0913891745817559\nMJD: 58083.0970938 and decYr 2017.9016358734248 w/ shk: 0.409843467218831 and offset:0.17879701908352152\nmake dir: output/22049/58083/\n-------------------------------------------------------------------------------\nbad correlation: 1.1139423158639474\nMJD: 58090.057432 and decYr 2017.9207052931506 w/ shk: 0.3665306816231778 and offset:0.18382293734027244\nmake dir: output/22049/58090/\n-------------------------------------------------------------------------------\nbad correlation: 1.1221590591881339\nMJD: 58090.0612244 and decYr 2017.9207156832877 w/ shk: 0.3573800199522888 and offset:0.18370305344063648\nmake dir: output/22049/58090/\n-------------------------------------------------------------------------------\nbad correlation: 1.1123736053875568\nMJD: 58140.1079712 and decYr 2018.0578300580821 w/ shk: 0.376606960440446 and offset:0.09571165760746908\nmake dir: output/22049/58140/\n-------------------------------------------------------------------------------\nbad correlation: 1.1152613291846687\nMJD: 58140.1117272 and decYr 2018.057840348493 w/ shk: 0.38224200709026496 and offset:0.09528974707592212\nmake dir: output/22049/58140/\n-------------------------------------------------------------------------------\nbad flat detected mk_flatolap.py\nbad correlation: 1.123139740234832\nMJD: 58331.3384727 and decYr 2018.581749240274 w/ shk: 0.6455094497325755 and offset:0.07294692971215352\nmake dir: output/22049/58331/\nbad: 58331.3384727\n-------------------------------------------------------------------------------\nbad flat detected mk_flatolap.py\nbad correlation: 1.1221734648130306\nMJD: 58331.342243 and decYr 2018.581759569863 w/ shk: 0.654794795063853 and offset:0.0708449564730818\nmake dir: output/22049/58331/\nbad: 58331.342243\n-------------------------------------------------------------------------------\nbad flat detected mk_flatolap.py\nbad correlation: 1.0812517315302816\nMJD: 58354.3656538 and decYr 2018.6448374076713 w/ shk: 0.568569906575482 and offset:0.07169058053693156\nmake dir: output/22049/58354/\nbad: 58354.3656538\n-------------------------------------------------------------------------------\nbad flat detected mk_flatolap.py\nbad correlation: 1.0840372624670576\nMJD: 58354.3715002 and decYr 2018.6448534252054 w/ shk: 0.5940291990645872 and offset:0.07267754105674465\nmake dir: output/22049/58354/\nbad: 58354.3715002\n-------------------------------------------------------------------------------\nbad correlation: 1.0701364506529785\nMJD: 58372.9628576 and decYr 2018.695788650959 w/ shk: 0.5069364467133376 and offset:0.13672958533672774\nmake dir: output/22049/58372/\n-------------------------------------------------------------------------------\nbad correlation: 1.070035740113916\nMJD: 58372.9677498 and decYr 2018.6958020542465 w/ shk: 0.48774058849123514 and offset:0.16806806347956646\nmake dir: output/22049/58372/\n-------------------------------------------------------------------------------\nbad correlation: 1.0805480171387696\nMJD: 58394.9053518 and decYr 2018.7559050734246 w/ shk: 0.4975371042482245 and offset:0.1779672154327953\nmake dir: output/22049/58394/\n-------------------------------------------------------------------------------\nbad correlation: 1.0760846594439248\nMJD: 58394.9102553 and decYr 2018.7559185076711 w/ shk: 0.49959865698985234 and offset:0.1828283774747383\nmake dir: output/22049/58394/\n-------------------------------------------------------------------------------\nbad correlation: 3.7230026680445185\nMJD: 58434.3511998 and decYr 2018.863975889863 w/ shk: 0.3612907231441228 and offset:0.15415178818640385\nmake dir: output/22049/58434/\nbad: 58434.3511998\n-------------------------------------------------------------------------------\nbad correlation: 33.52097858234111\nMJD: 58434.3561144 and decYr 2018.8639893545205 w/ shk: -25.519127525660366 and offset:-0.9432881307015201\nmake dir: output/22049/58434/\nbad: 58434.3561144\n-------------------------------------------------------------------------------\nbad correlation: 1.0722184558380035\nMJD: 58471.952604 and decYr 2018.9669934356164 w/ shk: 0.49042760274640673 and offset:0.19691407923672907\nmake dir: output/22049/58471/\n-------------------------------------------------------------------------------\nbad correlation: 1.0806232925330124\nMJD: 58471.9574956 and decYr 2018.9670068372602 w/ shk: 0.4880618982435886 and offset:0.23763531225387077\nmake dir: output/22049/58471/\n-------------------------------------------------------------------------------\nbad correlation: 1.0874310392868103\nMJD: 58497.8457527 and decYr 2019.0379335690411 w/ shk: 0.5083781416372949 and offset:0.16471130102250345\nmake dir: output/22049/58497/\n-------------------------------------------------------------------------------\nbad correlation: 1.0789316932467383\nMJD: 58497.8506448 and decYr 2019.037946972055 w/ shk: 0.5088103733486505 and offset:0.1802869571202978\nmake dir: output/22049/58497/\n-------------------------------------------------------------------------------\nbad correlation: 1.0814558577020632\nMJD: 58538.7946656 and decYr 2019.1501223715068 w/ shk: 0.45816384803036503 and offset:0.21837169534651032\nmake dir: output/22049/58538/\n-------------------------------------------------------------------------------\nbad correlation: 1.0827575494182262\nMJD: 58538.799557 and decYr 2019.1501357726027 w/ shk: 0.4586034238155103 and offset:0.18191791344586103\nmake dir: output/22049/58538/\n-------------------------------------------------------------------------------\nbad correlation: 1.0926694941013098\nMJD: 58655.1802291 and decYr 2019.4689869290412 w/ shk: 0.42863723938274545 and offset:0.1020106988867553\nmake dir: output/22049/58655/\n-------------------------------------------------------------------------------\nbad correlation: 1.0829971380944645\nMJD: 58655.1851092 and decYr 2019.469000299178 w/ shk: 0.3992154336768882 and offset:0.0903875500655867\nmake dir: output/22049/58655/\n-------------------------------------------------------------------------------\nbad correlation: 1.1094742128875261\nMJD: 58678.3833778 and decYr 2019.532557199452 w/ shk: 0.40180711744968345 and offset:0.13236414461522558\nmake dir: output/22049/58678/\n-------------------------------------------------------------------------------\nbad correlation: 1.1093122774510564\nMJD: 58678.3882907 and decYr 2019.532570659452 w/ shk: 0.4022206301082906 and offset:0.13163809621587771\nmake dir: output/22049/58678/\n-------------------------------------------------------------------------------\nbad correlation: 1.2884528190118236\nMJD: 58705.2963987 and decYr 2019.6062915032876 w/ shk: 0.3916804974255521 and offset:0.12980284014385973\nmake dir: output/22049/58705/\n-------------------------------------------------------------------------------\nbad correlation: 1.2930285209526176\nMJD: 58705.3012905 and decYr 2019.6063049054794 w/ shk: 0.3975607234919276 and offset:0.1290075954371312\nmake dir: output/22049/58705/\n-------------------------------------------------------------------------------\nbad correlation: 1.1271900047729662\nMJD: 58731.9782797 and decYr 2019.6793925471234 w/ shk: 0.4290528882355299 and offset:0.13321769797640112\nmake dir: output/22049/58731/\n-------------------------------------------------------------------------------\nbad correlation: 1.2009342008018433\nMJD: 58731.9831826 and decYr 2019.679405979726 w/ shk: 0.38213276088947506 and offset:0.12926761604259904\nmake dir: output/22049/58731/\n-------------------------------------------------------------------------------\nbad correlation: 1.078570966489704\nMJD: 58761.9852142 and decYr 2019.7616033265754 w/ shk: 0.43859449131934086 and offset:0.138118424323823\nmake dir: output/22049/58761/\n-------------------------------------------------------------------------------\nbad correlation: 1.082127334937545\nMJD: 58761.9901174 and decYr 2019.76161676 w/ shk: 0.45097556300128194 and offset:0.10493819116605628\nmake dir: output/22049/58761/\n-------------------------------------------------------------------------------\nbad correlation: 1.0808499408786916\nMJD: 58791.8171273 and decYr 2019.8433345953424 w/ shk: 0.43959693073705586 and offset:0.1823088506387721\nmake dir: output/22049/58791/\n-------------------------------------------------------------------------------\nbad correlation: 1.076330718788531\nMJD: 58791.8220303 and decYr 2019.8433480282192 w/ shk: 0.4396716887424434 and offset:0.18583082249111102\nmake dir: output/22049/58791/\n-------------------------------------------------------------------------------\nbad correlation: 1.0686402787458649\nMJD: 58821.7624131 and decYr 2019.9253764742466 w/ shk: 0.4499812533498274 and offset:0.18008717973633587\nmake dir: output/22049/58821/\n-------------------------------------------------------------------------------\nbad correlation: 1.0679521353031662\nMJD: 58821.7673276 and decYr 2019.9253899386301 w/ shk: 0.44006030422873776 and offset:0.1806737282163617\nmake dir: output/22049/58821/\n-------------------------------------------------------------------------------\nbad correlation: 1.078737597742605\nMJD: 58850.8438687 and decYr 2020.005037892623 w/ shk: 0.467231774379995 and offset:0.19536660664350755\nmake dir: output/22049/58850/\n-------------------------------------------------------------------------------\nbad correlation: 1.0808611745275385\nMJD: 58850.8487718 and decYr 2020.005051289071 w/ shk: 0.46559018687995257 and offset:0.20054203577262697\nmake dir: output/22049/58850/\n-------------------------------------------------------------------------------\nbad correlation: 1.091870466905592\nMJD: 58884.8156864 and decYr 2020.0978570666666 w/ shk: 0.4510460991203691 and offset:0.16507142648904133\nmake dir: output/22049/58884/\n-------------------------------------------------------------------------------\nbad correlation: 1.0822037400303777\nMJD: 58884.8205858 and decYr 2020.0978704530055 w/ shk: 0.4704407338292491 and offset:0.18962584290334575\nmake dir: output/22049/58884/\ntempEff lookup\nMJD: 58761.9901174 and decYr 2019.76161676 w/ shk: 0.44469995720830024 and offset:0\nmake dir: output/22049/58761/\ntempEff lookup\nMJD: 58045.1409353 and decYr 2017.7976463980822 w/ shk: 0.31713846793581735 and offset:0\nmake dir: output/22049/58045/\ntempEff lookup\nMJD: 58050.1276056 and decYr 2017.811308508493 w/ shk: 0.32126109649600715 and offset:0\nmake dir: output/22049/58050/\ntempEff lookup\nMJD: 58056.1112533 and decYr 2017.8277020638357 w/ shk: 0.31185825129317296 and offset:0\nmake dir: output/22049/58056/\ntempEff lookup\nMJD: 58083.0933119 and decYr 2017.9016255120548 w/ shk: 0.4086962138472313 and offset:0\nmake dir: output/22049/58083/\ntempEff lookup\nMJD: 58090.057432 and decYr 2017.9207052931506 w/ shk: 0.3619791153490298 and offset:0\nmake dir: output/22049/58090/\ntempEff lookup\nMJD: 58140.1079712 and decYr 2018.0578300580821 w/ shk: 0.3793119389014674 and offset:0\nmake dir: output/22049/58140/\ntempEff lookup\nMJD: 58372.9628576 and decYr 2018.695788650959 w/ shk: 0.4965789460718195 and offset:0\nmake dir: output/22049/58372/\ntempEff lookup\nMJD: 58394.9053518 and decYr 2018.7559050734246 w/ shk: 0.498620694917709 and offset:0\nmake dir: output/22049/58394/\ntempEff lookup\nMJD: 58471.952604 and decYr 2018.9669934356164 w/ shk: 0.48929059322174095 and offset:0\nmake dir: output/22049/58471/\ntempEff lookup\nMJD: 58497.8457527 and decYr 2019.0379335690411 w/ shk: 0.5085914755582036 and offset:0\nmake dir: output/22049/58497/\ntempEff lookup\nMJD: 58538.7946656 and decYr 2019.1501223715068 w/ shk: 0.4583703947839421 and offset:0\nmake dir: output/22049/58538/\ntempEff lookup\nMJD: 58655.1802291 and decYr 2019.4689869290412 w/ shk: 0.41310310954763907 and offset:0\nmake dir: output/22049/58655/\ntempEff lookup\nMJD: 58678.3833778 and decYr 2019.532557199452 w/ shk: 0.40201268945512125 and offset:0\nmake dir: output/22049/58678/\ntempEff lookup\nMJD: 58705.2963987 and decYr 2019.6062915032876 w/ shk: 0.3947026509746853 and offset:0\nmake dir: output/22049/58705/\ntempEff lookup\nMJD: 58731.9782797 and decYr 2019.6793925471234 w/ shk: 0.4101578745998767 and offset:0\nmake dir: output/22049/58731/\ntempEff lookup\nMJD: 58791.8171273 and decYr 2019.8433345953424 w/ shk: 0.4396287541062413 and offset:0\nmake dir: output/22049/58791/\ntempEff lookup\nMJD: 58821.7624131 and decYr 2019.9253764742466 w/ shk: 0.4449298336854155 and offset:0\nmake dir: output/22049/58821/\ntempEff lookup\nMJD: 58850.8438687 and decYr 2020.005037892623 w/ shk: 0.4663621794176647 and offset:0\nmake dir: output/22049/58850/\ntempEff lookup\nMJD: 58884.8156864 and decYr 2020.0978570666666 w/ shk: 0.466776782355539 and offset:0\nmake dir: output/22049/58884/\n"
    },
    {
     "output_type": "error",
     "ename": "NameError",
     "evalue": "name 'h' is not defined",
     "traceback": [
      "\u001b[1;31m---------------------------------------------------------------------------\u001b[0m",
      "\u001b[1;31mNameError\u001b[0m                                 Traceback (most recent call last)",
      "\u001b[1;32m<ipython-input-5-4b3ef1adfa02>\u001b[0m in \u001b[0;36m<module>\u001b[1;34m\u001b[0m\n\u001b[0;32m     35\u001b[0m \u001b[1;31m#t.test_daily_data_sum()\u001b[0m\u001b[1;33m\u001b[0m\u001b[1;33m\u001b[0m\u001b[1;33m\u001b[0m\u001b[0m\n\u001b[0;32m     36\u001b[0m \u001b[1;33m\u001b[0m\u001b[0m\n\u001b[1;32m---> 37\u001b[1;33m \u001b[0mnresshk\u001b[0m\u001b[1;33m.\u001b[0m\u001b[0mNRES_SHK_Pipeline\u001b[0m\u001b[1;33m(\u001b[0m\u001b[0mdataPath\u001b[0m\u001b[1;33m,\u001b[0m\u001b[0moutputPath\u001b[0m\u001b[1;33m,\u001b[0m\u001b[0mflatDict\u001b[0m\u001b[1;33m,\u001b[0m\u001b[0mlab\u001b[0m\u001b[1;33m,\u001b[0m\u001b[0mbad\u001b[0m\u001b[1;33m,\u001b[0m\u001b[0mforceRun\u001b[0m\u001b[1;33m)\u001b[0m\u001b[1;33m\u001b[0m\u001b[1;33m\u001b[0m\u001b[0m\n\u001b[0m\u001b[0;32m     38\u001b[0m \u001b[1;33m\u001b[0m\u001b[0m\n",
      "\u001b[1;32md:\\My Documents\\Coding Projects\\nreshk\\NRES_SHK_Pipeline.py\u001b[0m in \u001b[0;36mNRES_SHK_Pipeline\u001b[1;34m(dataPath, outputPath, flatDict, lab, badD, forceRun)\u001b[0m\n\u001b[0;32m    545\u001b[0m         \u001b[1;31m#TAG_9_\u001b[0m\u001b[1;33m\u001b[0m\u001b[1;33m\u001b[0m\u001b[1;33m\u001b[0m\u001b[0m\n\u001b[0;32m    546\u001b[0m \u001b[1;33m\u001b[0m\u001b[0m\n\u001b[1;32m--> 547\u001b[1;33m         \u001b[0mplot\u001b[0m\u001b[1;33m.\u001b[0m\u001b[0mplot_timeseries\u001b[0m\u001b[1;33m(\u001b[0m\u001b[0manalyzed\u001b[0m\u001b[1;33m,\u001b[0m\u001b[0mstarName\u001b[0m\u001b[1;33m,\u001b[0m\u001b[0mbadD\u001b[0m\u001b[1;33m)\u001b[0m\u001b[1;33m\u001b[0m\u001b[1;33m\u001b[0m\u001b[0m\n\u001b[0m\u001b[0;32m    548\u001b[0m         \u001b[1;31m#pipe.plot_daily_data_timeseries(data,starName,bad)\u001b[0m\u001b[1;33m\u001b[0m\u001b[1;33m\u001b[0m\u001b[1;33m\u001b[0m\u001b[0m\n\u001b[0;32m    549\u001b[0m \u001b[1;33m\u001b[0m\u001b[0m\n",
      "\u001b[1;32md:\\My Documents\\Coding Projects\\nreshk\\plotting.py\u001b[0m in \u001b[0;36mplot_timeseries\u001b[1;34m(inData, starName, bad)\u001b[0m\n\u001b[0;32m     83\u001b[0m \u001b[1;33m\u001b[0m\u001b[0m\n\u001b[0;32m     84\u001b[0m \u001b[1;33m\u001b[0m\u001b[0m\n\u001b[1;32m---> 85\u001b[1;33m     \u001b[0mh\u001b[0m\u001b[1;33m.\u001b[0m\u001b[0mmkdir_p\u001b[0m\u001b[1;33m(\u001b[0m\u001b[1;34m'output/'\u001b[0m\u001b[1;33m+\u001b[0m\u001b[0minData\u001b[0m\u001b[1;33m.\u001b[0m\u001b[0mstarDir\u001b[0m\u001b[1;33m(\u001b[0m\u001b[1;33m)\u001b[0m\u001b[1;33m+\u001b[0m\u001b[1;34m'/'\u001b[0m\u001b[1;33m)\u001b[0m\u001b[1;33m\u001b[0m\u001b[1;33m\u001b[0m\u001b[0m\n\u001b[0m\u001b[0;32m     86\u001b[0m \u001b[1;33m\u001b[0m\u001b[0m\n\u001b[0;32m     87\u001b[0m     \u001b[0mplt\u001b[0m\u001b[1;33m.\u001b[0m\u001b[0mstyle\u001b[0m\u001b[1;33m.\u001b[0m\u001b[0muse\u001b[0m\u001b[1;33m(\u001b[0m\u001b[1;34m'classic'\u001b[0m\u001b[1;33m)\u001b[0m\u001b[1;33m\u001b[0m\u001b[1;33m\u001b[0m\u001b[0m\n",
      "\u001b[1;31mNameError\u001b[0m: name 'h' is not defined"
     ]
    }
   ],
   "source": [
    "%load_ext autoreload\n",
    "%autoreload\n",
    "\n",
    "\n",
    "#from matplotlib.backends.backend_pdf import PdfPages\n",
    "import NRES_SHK_Pipeline as nresshk\n",
    "import pipeline_testing as t\n",
    "\n",
    "flatDict = nresshk.NRES_SHK_MkFlat(flatPath,flatPickle)\n",
    "\n",
    "\n",
    "#MJD dates known to be bad TODO better feature use, maybe not w/ mjd\n",
    "bad = [58330.3596906, 58330.3634695, 58553.7527935, 58553.7479017, 58272.4211262, 58272.4248934, 58354.2323109, 58354.2381758, 58331.3384727, 58331.3384727, 58331.342243, 58354.3656538, 58354.3715002, 58434.3511998, 58434.3561144,58354.3715002,58354.3656538,58331.342243]\n",
    "\n",
    "#a list of stars we MUST run, regardless of if there is already output\n",
    "forceRun = [\"22049\"]#[\"76151\",\"22049\"]\n",
    "    \n",
    "#debug mode\n",
    "#verbose debug\n",
    "#file output|\n",
    "#etc\n",
    "debugMode = 0#currently N/A\n",
    "\n",
    "#output mode\n",
    "#0 - all output \n",
    "#1 - only star \n",
    "#2 - only time series\n",
    "#etc\n",
    "pdfMode = 0#currently N/A`\n",
    "#s\n",
    "#TODO impement|\n",
    "#if using radial velocity to align must have dict of star HD's and their rv\n",
    "alignmentDict = []#currently N/A\n",
    "\n",
    "#t.test_daily_data_sum()\n",
    "\n",
    "nresshk.NRES_SHK_Pipeline(dataPath,outputPath,flatDict,lab,bad,forceRun)\n",
    "\n"
   ]
  },
  {
   "cell_type": "code",
   "execution_count": null,
   "metadata": {},
   "outputs": [],
   "source": []
  }
 ],
 "metadata": {
  "kernelspec": {
   "display_name": "Python 3",
   "language": "python",
   "name": "python3"
  },
  "language_info": {
   "codemirror_mode": {
    "name": "ipython",
    "version": 3
   },
   "file_extension": ".py",
   "mimetype": "text/x-python",
   "name": "python",
   "nbconvert_exporter": "python",
   "pygments_lexer": "ipython3",
   "version": "3.8.3-final"
  }
 },
 "nbformat": 4,
 "nbformat_minor": 2
}