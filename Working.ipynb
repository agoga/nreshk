{
 "cells": [
  {
   "cell_type": "code",
   "execution_count": 109,
   "metadata": {},
   "outputs": [],
   "source": [
    "import numpy as np\n",
    "import astropy.io.fits\n",
    "from matplotlib import pyplot as plt\n",
    "\n",
    "from astropy.convolution import convolve, Box1DKernel\n",
    "# n.b. this overrides pylab's convolve()"
   ]
  },
  {
   "cell_type": "code",
   "execution_count": 27,
   "metadata": {},
   "outputs": [],
   "source": [
    "#WORKING MK_FLATOLAP\n",
    "##PORT OF DR. TIM BROWN'S NRES HK CODE \n",
    "##comments marked brown are Dr. Brown's\n",
    "\n",
    "##intializations and hardcoded inputs\n",
    "##TODO take command line input???\n",
    "##\n",
    "lamRan=[380.,420.]\n",
    "dLam =0.001\n",
    "gOrd=[63,64,65,66]\n",
    "nGord= len(gOrd)\n",
    "nx=4096\n",
    "bounds=[[615,3803],[670,3770],[733,3740],[750,3660]]\n",
    "##\n",
    "\n",
    "\n",
    "#TODO make path relative and OS indep\n",
    "filePath = '/home/agoga/Documents/nreshk/data/'\n",
    "dataFile = 'cptnrs03-fa13-20190603-0031-e91.fits'  #tharin\n",
    "flatFile = 'flat_cpt_nres03_fa13_20190603.fits'    #flatin\n",
    "\n",
    "#hack the date out of flat file, better way I'm sure, split the end off then take last tertm after '_'\n",
    "#TODO check dates btwn data/flat are at most ?a day? apart or warn\n",
    "flatDate = flatFile.split('.')[0].split('_')[-1]"
   ]
  },
  {
   "cell_type": "code",
   "execution_count": 187,
   "metadata": {},
   "outputs": [
    {
     "name": "stdout",
     "output_type": "stream",
     "text": [
      "(3, 67, 4096)\n",
      "(67, 4096)\n",
      "max\n",
      "0.9956835779715005\n",
      "(4096, 67)\n",
      "(4096, 4)\n",
      "(4096,)\n",
      "(4096,)\n",
      "(40001,)\n",
      "(40001, 2)\n",
      "[-0.01337986 -0.01337858 -0.0133773  ... -0.09205632 -0.09206051\n",
      " -0.0920647 ]\n"
     ]
    },
    {
     "data": {
      "text/plain": [
       "[<matplotlib.lines.Line2D at 0x7f0ed0c4feb8>]"
      ]
     },
     "execution_count": 187,
     "metadata": {},
     "output_type": "execute_result"
    },
    {
     "data": {
      "image/png": "[encoded data removed]",
      "text/plain": [
       "<Figure size 432x288 with 1 Axes>"
      ]
     },
     "metadata": {
      "needs_background": "light"
     },
     "output_type": "display_data"
    }
   ],
   "source": [
    "#read files\n",
    "flatHDu1 = astropy.io.fits.open(filepath+flatfile)\n",
    "dataHDu1 = astropy.io.fits.open(filepath+datafile)\n",
    "\n",
    "flat = flatHDu1[0].data\n",
    "lam = dataHDu1[7].data\n",
    "print(np.shape(flat))\n",
    "print(np.shape(lam))\n",
    "#TRANSPOSE THE STRAIGHT DATA BC IDL CODE HAS REVERSED DIMENSIONS\n",
    "#TODO FIX THIS AND ALL ARRAY SHAPES TO FOLLOW PYTHON LOADING\n",
    "lam=np.transpose(lam)\n",
    "\n",
    "#brown\n",
    "#make wavelength grid\n",
    "nLam = ((lamRan[1]-lamRan[0])/dLam)+1\n",
    "lamGrid = lamRan[0]+dLam*np.arange(nLam,dtype=np.float64)\n",
    "\n",
    "#brown\n",
    "#make wavelength derivative, scale function to assure integral flux*dlambda\n",
    "#is preserved in transformation to constant wavelength bins.\n",
    "\n",
    "#verify data types https://www.harrisgeospatial.com/docs/PythonDataConvert.html\n",
    "dLambx = np.zeros((nx,nGord),dtype=np.float64)\n",
    "scale = np.zeros((nx,nGord),dtype=np.float64)\n",
    "\n",
    "\n",
    "\n",
    "#BUG potentially the IDL code is finding the flat for the first 4 orders \n",
    "#when we want to use the last 4\n",
    "for y in range(len(gOrd)) :\n",
    "    #TODO first and last in each order are not accurate w idl code and precision is less\n",
    "    #dlamb only accurate to 3 sigfig\n",
    "    #scale is accurate against idl to about 3 decimal places\n",
    "    dLambx[:,y] = np.gradient(lam[:,y]) \n",
    "    scale[:,y] =  dLambx[:,y]/dLambx[int(nx/2),y]\n",
    "\n",
    "#print(dLambx[:,0])\n",
    "#print(scale[:,0]) \n",
    "\n",
    "\n",
    "#brown \n",
    "#isolate the desired orders, set contents to zero outside boundaries.\n",
    "\n",
    "#UNTESTED BEGIN\n",
    "\n",
    "\n",
    "#TODOmnad;lsad;lsadksadjkl transpose hack blargggggggg\n",
    "gFlat = np.transpose(flat[0,gOrd,:])\n",
    "sgFlat = np.zeros((nx,nGord),dtype=np.float64)\n",
    "#print(np.shape(gFlat))\n",
    "#print(np.shape(sgFlat))\n",
    "\n",
    "\n",
    "for i in range(len(gOrd)) :\n",
    "    #bug cant do bounds[i,0] for some reason\n",
    "    gFlat[i,0:bounds[i][0]]=0\n",
    "    gFlat[i,bounds[i][1]:bounds[-1][1]]=0\n",
    "    #BOX CAR SMOOTHING INSTEAD OF IDL SMOOTH(SMOOTH(SMOOTH()))\n",
    "    #https://joseph-long.com/writing/AstroPy-boxcar/\n",
    "    sgFlat[:,i]=convolve(gFlat[:,i]*scale[:,i], Box1DKernel(25))\n",
    "    \n",
    "flatOlap = np.zeros(int(nLam),dtype=np.float64)    \n",
    "print('max')\n",
    "m = max(sgFlat[:,1])\n",
    "print(m)\n",
    "    \n",
    "\n",
    "#brown\n",
    "#interpolate onto flatolap\n",
    "\n",
    "\n",
    "#https://stackoverflow.com/questions/18326714/idl-interpol-equivalent-for-python\n",
    "from scipy import interpolate\n",
    "\n",
    "print(np.shape(lam))\n",
    "print(np.shape(sgFlat))\n",
    "print(np.shape(lam[:,66]))\n",
    "print(np.shape(sgFlat[:,0]))\n",
    "print(np.shape(lamGrid))\n",
    "for i in range(len(gOrd)) :\n",
    "    interpfunc = interpolate.interp1d(lam[:,gOrd[i]],sgFlat[:,i], kind='linear', fill_value='extrapolate')\n",
    "    flatOlap = flatOlap+interpfunc(lamGrid)\n",
    "\n",
    "\n",
    "#if any(i > 0 for i in flatOlap) :\n",
    " #   print('gotya')\n",
    "    \n",
    "#brown\n",
    "#make output data array -- [lambda,flatolap].  Write it out.\n",
    "output = np.zeros((int(nLam),2),dtype=np.float64)\n",
    "print(np.shape(output))\n",
    "output[:,0] = lamGrid    \n",
    "output[:,1] = flatOlap  \n",
    "    \n",
    "plt.figure()\n",
    "print(flatOlap)\n",
    "plt.plot(lamGrid, flatOlap, 'k-',color='blue')\n",
    "plt.xlabel('wavelength [nm]')\n",
    "\n",
    "\n",
    "##HACK FOR PLOT\n",
    "#filepath = '/home/agoga/Documents/IotaH/Code/IDLPipeline/nres_shk/data/'\n",
    "#file = 'test.fits'\n",
    "#hdu1 = astropy.io.fits.open(filepath+file)\n",
    "#data = hdu1[0].data\n",
    "#plt.plot(data[0], data[1], 'k-', color='red')"
   ]
  },
  {
   "cell_type": "code",
   "execution_count": null,
   "metadata": {},
   "outputs": [],
   "source": []
  }
 ],
 "metadata": {
  "kernelspec": {
   "display_name": "Python 3",
   "language": "python",
   "name": "python3"
  },
  "language_info": {
   "codemirror_mode": {
    "name": "ipython",
    "version": 3
   },
   "file_extension": ".py",
   "mimetype": "text/x-python",
   "name": "python",
   "nbconvert_exporter": "python",
   "pygments_lexer": "ipython3",
   "version": "3.7.3"
  }
 },
 "nbformat": 4,
 "nbformat_minor": 2
}
