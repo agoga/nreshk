{
 "cells": [
  {
   "cell_type": "code",
   "execution_count": 1,
   "metadata": {
    "tags": []
   },
   "outputs": [
    {
     "output_type": "error",
     "ename": "IndentationError",
     "evalue": "expected an indented block (pipeline.py, line 310)",
     "traceback": [
      "Traceback \u001b[1;36m(most recent call last)\u001b[0m:\n",
      "  File \u001b[0;32m\"C:\\Users\\adfgo\\anaconda3\\lib\\site-packages\\IPython\\core\\interactiveshell.py\"\u001b[0m, line \u001b[0;32m3343\u001b[0m, in \u001b[0;35mrun_code\u001b[0m\n    exec(code_obj, self.user_global_ns, self.user_ns)\n",
      "\u001b[1;36m  File \u001b[1;32m\"<ipython-input-1-88bc838f83e2>\"\u001b[1;36m, line \u001b[1;32m2\u001b[1;36m, in \u001b[1;35m<module>\u001b[1;36m\u001b[0m\n\u001b[1;33m    from pipeline import import_aligning_spectra\u001b[0m\n",
      "\u001b[1;36m  File \u001b[1;32m\"d:\\My Documents\\Coding Projects\\nreshk\\pipeline.py\"\u001b[1;36m, line \u001b[1;32m310\u001b[0m\n\u001b[1;33m    if header is not None:\u001b[0m\n\u001b[1;37m    ^\u001b[0m\n\u001b[1;31mIndentationError\u001b[0m\u001b[1;31m:\u001b[0m expected an indented block\n"
     ]
    }
   ],
   "source": [
    "#this is where single run functions such as creating the flat pickle file(flat database) and loading aligning spectra\n",
    "from pipeline import import_aligning_spectra\n",
    "from NRES_SHK_Pipeline import create_flat_dict_file\n",
    "\n",
    "#Project folder directory on your computer\n",
    "homePath = 'D:/My Documents/Coding Projects/nreshk/'\n",
    "\n",
    "#required paths for pipeline, try not to change ever\n",
    "dataPath = homePath + 'data/'\n",
    "outputPath = homePath + 'output/'\n",
    "flatPath = dataPath + 'flats/'\n",
    "flatPickle = \"flatDict.pkl\"\n",
    "\n",
    "create_flat_dict_file(flatPath,flatPickle)\n",
    "\n",
    "#need this in memory for the following wrapper\n",
    "#TODO maybe a better way to do this without lugging the lab spectra around every install\n",
    "lab = import_aligning_spectra(dataPath+ 'LabSpectra/', resolution=0)#,res*10)\n",
    "print('done')"
   ]
  },
  {
   "cell_type": "code",
   "execution_count": 2,
   "metadata": {
    "scrolled": true,
    "tags": []
   },
   "outputs": [
    {
     "output_type": "error",
     "ename": "IndentationError",
     "evalue": "expected an indented block (pipeline.py, line 310)",
     "traceback": [
      "Traceback \u001b[1;36m(most recent call last)\u001b[0m:\n",
      "  File \u001b[0;32m\"C:\\Users\\adfgo\\anaconda3\\lib\\site-packages\\IPython\\core\\interactiveshell.py\"\u001b[0m, line \u001b[0;32m3343\u001b[0m, in \u001b[0;35mrun_code\u001b[0m\n    exec(code_obj, self.user_global_ns, self.user_ns)\n",
      "  File \u001b[0;32m\"<ipython-input-2-4b3ef1adfa02>\"\u001b[0m, line \u001b[0;32m6\u001b[0m, in \u001b[0;35m<module>\u001b[0m\n    import NRES_SHK_Pipeline as nresshk\n",
      "\u001b[1;36m  File \u001b[1;32m\"d:\\My Documents\\Coding Projects\\nreshk\\NRES_SHK_Pipeline.py\"\u001b[1;36m, line \u001b[1;32m22\u001b[1;36m, in \u001b[1;35m<module>\u001b[1;36m\u001b[0m\n\u001b[1;33m    import pipeline as pipe\u001b[0m\n",
      "\u001b[1;36m  File \u001b[1;32m\"d:\\My Documents\\Coding Projects\\nreshk\\pipeline.py\"\u001b[1;36m, line \u001b[1;32m310\u001b[0m\n\u001b[1;33m    if header is not None:\u001b[0m\n\u001b[1;37m    ^\u001b[0m\n\u001b[1;31mIndentationError\u001b[0m\u001b[1;31m:\u001b[0m expected an indented block\n"
     ]
    }
   ],
   "source": [
    "%load_ext autoreload\n",
    "%autoreload\n",
    "\n",
    "\n",
    "#from matplotlib.backends.backend_pdf import PdfPages\n",
    "import NRES_SHK_Pipeline as nresshk\n",
    "import pipeline_testing as t\n",
    "\n",
    "flatDict = nresshk.NRES_SHK_MkFlat(flatPath,flatPickle)\n",
    "\n",
    "\n",
    "#MJD dates known to be bad TODO better feature use, maybe not w/ mjd\n",
    "bad = [58330.3596906, 58330.3634695, 58553.7527935, 58553.7479017, 58272.4211262, 58272.4248934, 58354.2323109, 58354.2381758, 58331.3384727, 58331.3384727, 58331.342243, 58354.3656538, 58354.3715002, 58434.3511998, 58434.3561144,58354.3715002,58354.3656538,58331.342243]\n",
    "\n",
    "#a list of stars we MUST run, regardless of if there is already output\n",
    "forceRun = [\"22049\"]#[\"76151\",\"22049\"]\n",
    "    \n",
    "#debug mode\n",
    "#verbose debug\n",
    "#file output|\n",
    "#etc\n",
    "debugMode = 0#currently N/A\n",
    "\n",
    "#output mode\n",
    "#0 - all output \n",
    "#1 - only star \n",
    "#2 - only time series\n",
    "#etc\n",
    "pdfMode = 0#currently N/A`\n",
    "#s\n",
    "#TODO impement|\n",
    "#if using radial velocity to align must have dict of star HD's and their rv\n",
    "alignmentDict = []#currently N/A\n",
    "\n",
    "#t.test_daily_data_sum()\n",
    "\n",
    "nresshk.NRES_SHK_Pipeline(dataPath,outputPath,flatDict,lab,bad,forceRun)\n",
    "\n"
   ]
  },
  {
   "cell_type": "code",
   "execution_count": null,
   "metadata": {},
   "outputs": [],
   "source": []
  }
 ],
 "metadata": {
  "kernelspec": {
   "display_name": "Python 3",
   "language": "python",
   "name": "python3"
  },
  "language_info": {
   "codemirror_mode": {
    "name": "ipython",
    "version": 3
   },
   "file_extension": ".py",
   "mimetype": "text/x-python",
   "name": "python",
   "nbconvert_exporter": "python",
   "pygments_lexer": "ipython3",
   "version": "3.8.3-final"
  }
 },
 "nbformat": 4,
 "nbformat_minor": 2
}